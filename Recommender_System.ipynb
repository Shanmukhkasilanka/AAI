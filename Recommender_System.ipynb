{
 "cells": [
  {
   "cell_type": "code",
   "execution_count": 1,
   "id": "b037aabd",
   "metadata": {},
   "outputs": [],
   "source": [
    "class RecommenderSystem:\n",
    "    def __init__(self):\n",
    "        self.user_shopping_history = {}\n",
    "        self.product_features = {\n",
    "           'product1': ['category1', 'category3'],\n",
    "           'product2': ['category2', 'category3'],\n",
    "           'product3': ['category1', 'category4'],\n",
    "           'product4': ['category2', 'category4'],\n",
    "           'product5': ['category3', 'category5']\n",
    "        }\n",
    "\n",
    "    def add_purchase(self, user_id, product_id):\n",
    "        if user_id not in self.user_shopping_history:\n",
    "            self.user_shopping_history[user_id] = []\n",
    "        self.user_shopping_history[user_id].append(product_id)\n",
    "    \n",
    "    def recommend_products(self, user_id):\n",
    "        user_history = self.user_shopping_history.get(user_id, [])\n",
    "        user_features = []\n",
    "        for product_id in user_history:\n",
    "            if product_id in self.product_features:\n",
    "                user_features.extend(self.product_features[product_id])\n",
    "        similar_products = []\n",
    "        for product_id, features in self.product_features.items():\n",
    "            if any(feature in user_features for feature in features):\n",
    "                if product_id not in user_history:\n",
    "                     similar_products.append(product_id)\n",
    "        return similar_products"
   ]
  },
  {
   "cell_type": "code",
   "execution_count": 10,
   "id": "3a476269",
   "metadata": {},
   "outputs": [
    {
     "name": "stdout",
     "output_type": "stream",
     "text": [
      "Recommendations for user1: ['product2', 'product3', 'product5']\n",
      "Recommendations for user2 ['product1', 'product4']\n"
     ]
    }
   ],
   "source": [
    "recommender = RecommenderSystem()\n",
    "recommender.add_purchase('user1', 'product1')\n",
    "recommender.add_purchase('user2', 'product3')\n",
    "recommendations1 = recommender.recommend_products('user1')\n",
    "recommendations2 = recommender.recommend_products('user2')\n",
    "print(\"Recommendations for user1:\", recommendations1)\n",
    "print(\"Recommendations for user2\", recommendations2)\n"
   ]
  },
  {
   "cell_type": "code",
   "execution_count": null,
   "id": "2569535d",
   "metadata": {},
   "outputs": [],
   "source": []
  }
 ],
 "metadata": {
  "kernelspec": {
   "display_name": "Python 3 (ipykernel)",
   "language": "python",
   "name": "python3"
  },
  "language_info": {
   "codemirror_mode": {
    "name": "ipython",
    "version": 3
   },
   "file_extension": ".py",
   "mimetype": "text/x-python",
   "name": "python",
   "nbconvert_exporter": "python",
   "pygments_lexer": "ipython3",
   "version": "3.9.7"
  }
 },
 "nbformat": 4,
 "nbformat_minor": 5
}
