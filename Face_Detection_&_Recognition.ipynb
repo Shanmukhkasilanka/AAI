{
 "cells": [
  {
   "cell_type": "code",
   "execution_count": null,
   "id": "501da682",
   "metadata": {},
   "outputs": [],
   "source": [
    "import cv2"
   ]
  },
  {
   "cell_type": "code",
   "execution_count": null,
   "id": "c7b690a8",
   "metadata": {},
   "outputs": [],
   "source": [
    "import face_recognition"
   ]
  },
  {
   "cell_type": "code",
   "execution_count": null,
   "id": "40fe3f5e",
   "metadata": {},
   "outputs": [],
   "source": [
    "def detect_faces(image_path):\n",
    "    \"\"\"\n",
    "        Detect faces in an image using OpenCVHaar Cascade classifier.\n",
    "        Args:\n",
    "        - image_path: Path to the image file.\n",
    "        Returns:\n",
    "        - An image with rectangles drawn around detected faces.\n",
    "    \"\"\"\n",
    "    image = cv2.imread(image_path)\n",
    "    gray = cv2.cvtColor(image, cv2.COLOR_BGR2GRAY)\n",
    "    face_cascade = cv2.CascadeClassifier(cv2.data.haarcascades + 'haarcascade_frontalface_default.xml')\n",
    "    faces = face_cascade.detectMultiScale(gray, scaleFactor=1.1, minNeighbors=5, minSize=(30, 30))\n",
    "    for (x, y, w, h) in faces:\n",
    "        cv2.rectangle(image, (x, y), (x + w, y + h), (255, 0, 0), 2)\n",
    "    return image"
   ]
  },
  {
   "cell_type": "code",
   "execution_count": null,
   "id": "ba7d6255",
   "metadata": {},
   "outputs": [],
   "source": [
    "def recognize_faces(known_face_path, unknown_face_path):\n",
    "    \"\"\"\n",
    "        Recognize faces in an image using face_recognition library.\n",
    "        Args:\n",
    "        - known_face_path: Path to the image file of the known face.\n",
    "        - unknown_face_path: Path to the image file containing the unknown face.\n",
    "        Returns:\n",
    "        - True if the unknown face is recognized as the known face, False otherwise.\n",
    "    \"\"\"\n",
    "    known_image = face_recognition.load_image_file(known_face_path)\n",
    "    known_face_encoding = face_recognition.face_encodings(known_image)[0]\n",
    "    unknown_image = face_recognition.load_image_file(unknown_face_path)\n",
    "    unknown_face_encoding = face_recognition.face_encodings(unknown_image)[0]\n",
    "    results = face_recognition.compare_faces([known_face_encoding], unknown_face_encoding)\n",
    "    return results[0]"
   ]
  },
  {
   "cell_type": "code",
   "execution_count": null,
   "id": "8808079c",
   "metadata": {},
   "outputs": [],
   "source": [
    "image_with_faces = detect_faces('path_to_image.jpg')\n",
    "cv2.imshow('Detected Faces', image_with_faces)\n",
    "cv2.waitKey(0)\n",
    "cv2.destroyAllWindows()\n",
    "is_recognized = recognize_faces('known_face.jpg', 'unknown_face.jpg')\n",
    "if is_recognized:\n",
    "    print(\"The unknown face is recognized as the known face.\")\n",
    "else:\n",
    "    print(\"The unknown face is not recognized as the known face.\")"
   ]
  },
  {
   "cell_type": "code",
   "execution_count": null,
   "id": "6fb39f29",
   "metadata": {},
   "outputs": [],
   "source": [
    "pip install face_recognition"
   ]
  },
  {
   "cell_type": "code",
   "execution_count": null,
   "id": "76880c00",
   "metadata": {},
   "outputs": [],
   "source": [
    "pip install dlib"
   ]
  },
  {
   "cell_type": "code",
   "execution_count": null,
   "id": "8020322b",
   "metadata": {},
   "outputs": [],
   "source": []
  }
 ],
 "metadata": {
  "kernelspec": {
   "display_name": "Python 3 (ipykernel)",
   "language": "python",
   "name": "python3"
  },
  "language_info": {
   "codemirror_mode": {
    "name": "ipython",
    "version": 3
   },
   "file_extension": ".py",
   "mimetype": "text/x-python",
   "name": "python",
   "nbconvert_exporter": "python",
   "pygments_lexer": "ipython3",
   "version": "3.9.7"
  }
 },
 "nbformat": 4,
 "nbformat_minor": 5
}
