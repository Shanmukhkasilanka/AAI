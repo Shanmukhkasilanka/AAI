{
 "cells": [
  {
   "cell_type": "code",
   "execution_count": 1,
   "id": "b803c9f5",
   "metadata": {},
   "outputs": [],
   "source": [
    "def college_chatbot():\n",
    "    college_info = {\n",
    "        'name': 'Sample College',\n",
    "        'location': 'Sample Location',\n",
    "        'programs': ['Computer Science', 'Engineering', 'Business'],\n",
    "        'facilities': {\n",
    "            'library': ['Digital', 'Offline'], \n",
    "            'sports center': ['Volley Ball', 'Basket Ball', 'Kabbadi'], \n",
    "            'laboratories': ['AAI', 'NLP', 'ML'],  \n",
    "            'clubs': ['Dance', 'Sports', 'Radio', 'Arts', 'Coding']\n",
    "                      }\n",
    "    }\n",
    "    print(\"Welcome to the College Information Chatbot.\")\n",
    "    print(f\"I am here to provide information about {college_info['name']}.\") \n",
    "    while True:\n",
    "        user_input = input(\"What would you like to know about the college? (Type 'exit' to end) \")\n",
    "        if user_input.lower() == 'exit':\n",
    "            print(\"Goodbye!\")\n",
    "            break\n",
    "        elif 'programs' in user_input.lower():\n",
    "            print(\"The college offers the following programs:\")\n",
    "            for program in college_info['programs']:\n",
    "                print(f\"- {program}\") \n",
    "        elif 'facilities' in user_input.lower():\n",
    "            print(\"The college provides the following facilities:\")\n",
    "            for facility in college_info['facilities']:\n",
    "                user_input = input(f\"What would you like to know about the {facility}? (Type 'exit' to end) \")\n",
    "                if user_input.lower() == 'exit':\n",
    "                    print(\"Goodbye!\")\n",
    "                    break\n",
    "                elif 'library' in user_input.lower():\n",
    "                    print(\"The Library offers the following programs:\")\n",
    "                    for library in facility['library']:\n",
    "                        print(f\"- {library}\")\n",
    "                elif 'sports center' in user_input.lower():\n",
    "                    print(\"The Sports Center offers the following programs:\")\n",
    "                    for sports_center in facility['sports center']:\n",
    "                        print(f\"- {sports_center}\")\n",
    "        else :\n",
    "            print(\"I'm sorry, I don't have information about that. You can ask about programs or facilities.\")\n",
    "\n",
    "    "
   ]
  },
  {
   "cell_type": "code",
   "execution_count": 2,
   "id": "33a1292a",
   "metadata": {},
   "outputs": [
    {
     "name": "stdout",
     "output_type": "stream",
     "text": [
      "Welcome to the College Information Chatbot.\n",
      "I am here to provide information about Sample College.\n",
      "What would you like to know about the college? (Type 'exit' to end) end\n",
      "I'm sorry, I don't have information about that. You can ask about programs or facilities.\n",
      "What would you like to know about the college? (Type 'exit' to end) exit\n",
      "Goodbye!\n"
     ]
    }
   ],
   "source": [
    "college_chatbot()"
   ]
  },
  {
   "cell_type": "code",
   "execution_count": null,
   "id": "cb9b8c36",
   "metadata": {},
   "outputs": [],
   "source": []
  }
 ],
 "metadata": {
  "kernelspec": {
   "display_name": "Python 3 (ipykernel)",
   "language": "python",
   "name": "python3"
  },
  "language_info": {
   "codemirror_mode": {
    "name": "ipython",
    "version": 3
   },
   "file_extension": ".py",
   "mimetype": "text/x-python",
   "name": "python",
   "nbconvert_exporter": "python",
   "pygments_lexer": "ipython3",
   "version": "3.9.7"
  }
 },
 "nbformat": 4,
 "nbformat_minor": 5
}
